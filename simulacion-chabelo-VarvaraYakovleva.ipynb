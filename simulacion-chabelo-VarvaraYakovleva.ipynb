{
 "cells": [
  {
   "cell_type": "code",
   "execution_count": 112,
   "metadata": {},
   "outputs": [],
   "source": [
    "# simulacion-chabelo-VarvaraYakovleva\n",
    "\n",
    "#Create doors\n",
    "import random as rand\n",
    "def addDoors():\n",
    "    picker =  rand.randint(0,1)\n",
    "    if picker == 1:\n",
    "        door1,door2,door3 = \"prize\",\"nth\",\"nth\"\n",
    "    else:\n",
    "        door1 = \"nth\"\n",
    "        picker = rand.randint(0,1)\n",
    "        if picker == 1:\n",
    "            door2,door3 = \"prize\",\"nth\"\n",
    "        else:\n",
    "            door2,door3 = \"nth\",\"prize\"\n",
    "    return [door1,door2,door3]"
   ]
  },
  {
   "cell_type": "code",
   "execution_count": 113,
   "metadata": {
    "collapsed": true
   },
   "outputs": [],
   "source": [
    "#Open empty door\n",
    "def openEmptyDoor(doors):\n",
    "    door = \"\"\n",
    "    while door != \"nth\":\n",
    "        doorNumber = rand.randint(0,2)\n",
    "        door = doors[doorNumber]\n",
    "    return doorNumber"
   ]
  },
  {
   "cell_type": "code",
   "execution_count": 114,
   "metadata": {
    "collapsed": true
   },
   "outputs": [],
   "source": [
    "#The simulation\n",
    "def simulation(doorNumber,switchOk):\n",
    "    doors = addDoors()\n",
    "    emptyDoor = addDoors()\n",
    "    while emptyDoor == doorNumber:\n",
    "        emptyDoor = openEmptyDoor(doors)\n",
    "    if switchOk == \"yes\":\n",
    "        doorNumber = [y for y in range(2) if y not in [doorNumber,emptyDoor]]\n",
    "        return doors[doorNumber[0]]\n",
    "    else:\n",
    "        return doors[doorNumber]"
   ]
  },
  {
   "cell_type": "code",
   "execution_count": 115,
   "metadata": {
    "collapsed": true
   },
   "outputs": [],
   "source": [
    "#The test\n",
    "def test(numExp,switch):\n",
    "    wonPrize,wonNth = 0,0\n",
    "    for i in range(numExp):\n",
    "        prize = simulation(rand.randint(0,2),switch)\n",
    "        if prize == \"prize\":\n",
    "                wonPrize += 1.0\n",
    "        else:\n",
    "                wonNth += 1.0\n",
    "    print \"Prize:\",wonPrize/numExp\n",
    "    print \"Nothing:\",wonNth/numExp"
   ]
  },
  {
   "cell_type": "code",
   "execution_count": 116,
   "metadata": {},
   "outputs": [
    {
     "name": "stdout",
     "output_type": "stream",
     "text": [
      "If you don't switch probabilities are:\n",
      "Prize: 0.3361\n",
      "Nothing: 0.6639\n",
      "\n",
      "If you switch probabilities are:\n",
      "Prize: 0.4153\n",
      "Nothing: 0.5847\n"
     ]
    }
   ],
   "source": [
    "#Experiment itself\n",
    "numExp = 10000\n",
    "#you can type any number\n",
    "\n",
    "print \"If you don't switch probabilities are:\"\n",
    "switch = \"no\" \n",
    "test(numExp, switch)\n",
    "print \"\"\n",
    "print \"If you switch probabilities are:\"\n",
    "switch = \"yes\"\n",
    "test(numExp, switch)"
   ]
  },
  {
   "cell_type": "code",
   "execution_count": null,
   "metadata": {
    "collapsed": true
   },
   "outputs": [],
   "source": []
  }
 ],
 "metadata": {
  "kernelspec": {
   "display_name": "Python 2",
   "language": "python",
   "name": "python2"
  },
  "language_info": {
   "codemirror_mode": {
    "name": "ipython",
    "version": 2
   },
   "file_extension": ".py",
   "mimetype": "text/x-python",
   "name": "python",
   "nbconvert_exporter": "python",
   "pygments_lexer": "ipython2",
   "version": "2.7.10"
  }
 },
 "nbformat": 4,
 "nbformat_minor": 2
}
